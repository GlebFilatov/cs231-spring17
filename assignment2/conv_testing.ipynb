{
 "cells": [
  {
   "cell_type": "code",
   "execution_count": 1,
   "metadata": {},
   "outputs": [],
   "source": [
    "import numpy as np"
   ]
  },
  {
   "cell_type": "raw",
   "metadata": {},
   "source": [
    "w - filter weights\n",
    "x - input data"
   ]
  },
  {
   "cell_type": "code",
   "execution_count": null,
   "metadata": {},
   "outputs": [],
   "source": []
  },
  {
   "cell_type": "code",
   "execution_count": 2,
   "metadata": {},
   "outputs": [],
   "source": [
    "stride, pad = 3,2\n",
    "\n",
    "n_convs, n_channels, conv_height, conv_width = 32, 3, 3, 3\n",
    "n_samples, n_channels, img_height, img_width = 16, 3, 128, 128"
   ]
  },
  {
   "cell_type": "code",
   "execution_count": 3,
   "metadata": {},
   "outputs": [],
   "source": [
    "x = np.random.exponential(size = (16, 3, 128, 128))"
   ]
  },
  {
   "cell_type": "code",
   "execution_count": 6,
   "metadata": {},
   "outputs": [],
   "source": [
    "npad = ((0,0), (0,0), (pad, pad), (pad, pad))\n",
    "x_ = np.pad(x, pad_width=npad, mode='constant')"
   ]
  },
  {
   "cell_type": "code",
   "execution_count": null,
   "metadata": {},
   "outputs": [],
   "source": [
    "#num_height_convs = int(1 + (img_height + 2 * pad - conv_height) / stride)\n",
    "#num_width_convs = int(1 + (img_width + 2 * pad - conv_width) / stride)\n",
    "\n",
    "\n",
    "\n",
    "\n",
    "\n",
    "for img in x:\n",
    "    hstart = 0\n",
    "    for c in range(n_convs):\n",
    "        conv = np.zeros((num_height_convs, num_width_convs, 3))\n",
    "        for h in range(num_height_convs):\n",
    "            wstart = 0\n",
    "            for w in range(num_width_convs):\n",
    "                conv[:, h, w] = (img[:, hstart:hstart + conv_height, wstart:wstart + conv_width] * weights).sum(axis = 1).sum(axis = 1)\n",
    "                wstart += stride\n",
    "            hstart += stride"
   ]
  }
 ],
 "metadata": {
  "kernelspec": {
   "display_name": "Python 3",
   "language": "python",
   "name": "python3"
  },
  "language_info": {
   "codemirror_mode": {
    "name": "ipython",
    "version": 3
   },
   "file_extension": ".py",
   "mimetype": "text/x-python",
   "name": "python",
   "nbconvert_exporter": "python",
   "pygments_lexer": "ipython3",
   "version": "3.6.4"
  }
 },
 "nbformat": 4,
 "nbformat_minor": 2
}
